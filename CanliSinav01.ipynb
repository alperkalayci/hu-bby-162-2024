{
  "nbformat": 4,
  "nbformat_minor": 0,
  "metadata": {
    "colab": {
      "provenance": [],
      "include_colab_link": true
    },
    "kernelspec": {
      "name": "python3",
      "display_name": "Python 3"
    },
    "language_info": {
      "name": "python"
    }
  },
  "cells": [
    {
      "cell_type": "markdown",
      "metadata": {
        "id": "view-in-github",
        "colab_type": "text"
      },
      "source": [
        "<a href=\"https://colab.research.google.com/github/alperkalayci/hu-bby-162-2024/blob/main/CanliSinav01.ipynb\" target=\"_parent\"><img src=\"https://colab.research.google.com/assets/colab-badge.svg\" alt=\"Open In Colab\"/></a>"
      ]
    },
    {
      "cell_type": "markdown",
      "source": [
        "**Canlı Sınav 01'e hoşgeldiniz!**"
      ],
      "metadata": {
        "id": "ItmuxWgBbkC1"
      }
    },
    {
      "cell_type": "markdown",
      "source": [
        "Canlı sınav, bilgisayar laboratuvarında bilgisayar başında yapılan ve teslim edilen projeyi ifade etmektedir. Canlı sınavda yazmış olduğunuz kodlar sizin sorumluluğunuzdadır ve gerekirse hangi kodu neden yazdığınızı açık bir şekilde anlatabilmeniz gerekmektedir. Canlı sınav sırasında İnternet üzerindeki kaynaklar kullanılabilir ancak başka bir kişiden destek alınamaz.\n",
        "\n",
        "Canlı sınavın teslim şekli önceki proje çalışmasında olduğu gibidir. \"Canlı Sınav 01\" adlı Colab not defterinin bir kopyasını çıkarmalı, size ait olan bu kopya üzerinde soruları cevaplamalı, GitHub'daki ders deponuza size ait kopyayı yüklemeli ve not defterinin adresini metin alanına yazarak göndermelisiniz.\n",
        "\n",
        "Canlı sınavın doğru şekilde tamamlanması da sınavın önemli bir parçasıdır. Sınav için gönderdiğiniz adresi kontrol ediniz ve doğru dosyayı depoya yerleştirdiği bizden emin olunuz. Teslim sürecinde yapılan hatalar sınavdan 0 puan almanıza yol açabilir!\n",
        "\n",
        "Önemli Not: Soruları cecaplarken sadece şu ana kadar öğrendiğiniz kod yapılarını kullanmanız gerekmektedir!!!"
      ],
      "metadata": {
        "id": "KGjdjR5RbTgH"
      }
    },
    {
      "cell_type": "markdown",
      "source": [
        "**----- Sorular -----**"
      ],
      "metadata": {
        "id": "zBvdh4s8cOqM"
      }
    },
    {
      "cell_type": "markdown",
      "source": [
        "**Soru 1:** Bir giriş sisteminde kullanıcı adı olarak eposta ya da telefon numarası kullanılabilmektedir. Şifre ise tektir. Klavyeden doğru kullanıcı adı ve şifre girildiğinde ekrana \" Sisteme giriş yaptınız\" , yanlış kullanıcı adı girildiğinde \"kullanıcı adı hatalı\" , yanlış şifre girildiğinde \"şifre hatalı\" bilgisi yazdırılmalıdır. Kullanıcı adı hatalı ise şifre sorma adımına geçilmemelidir."
      ],
      "metadata": {
        "id": "ma0FVqgQiLBe"
      }
    },
    {
      "cell_type": "code",
      "source": [
        "#Soru 1 bu bölümde kodlanmalıdır\n",
        "eposta = \"a@a.net\"\n",
        "tel = \"532\"\n",
        "sifre = \"123\"\n",
        "\n",
        "def giris_sistemi():\n",
        "    # Doğru kullanıcı adı ve şifre\n",
        "    dogru_kullaniciadi = \"alper67@gmail.com\"\n",
        "    dogru_sifre = \"123456\"\n",
        "\n",
        "    # Kullanıcıdan giriş bilgilerini al\n",
        "    kullaniciadi = input(\"Kullanıcı Adı (e-posta veya telefon numarası): \")\n",
        "    sifre = input(\"Şifre: \")\n",
        "\n",
        "    # Kullanıcı adını kontrol et\n",
        "    if kullaniciadi == dogru_kullaniciadi:\n",
        "        # Şifreyi kontrol et\n",
        "        if sifre == dogru_sifre:\n",
        "            print(\"Sisteme giriş yaptınız.\")\n",
        "        else:\n",
        "            print(\"Şifre hatalı.\")\n",
        "    else:\n",
        "        print(\"Kullanıcı adı hatalı.\")\n",
        "\n",
        "# Giriş sistemi fonksiyonunu çağır\n",
        "giris_sistemi()\n",
        "\n"
      ],
      "metadata": {
        "id": "Fj7wkLMcjp_7",
        "outputId": "6cabf463-9063-4249-b7c7-f70a2e549b9c",
        "colab": {
          "base_uri": "https://localhost:8080/"
        }
      },
      "execution_count": 17,
      "outputs": [
        {
          "output_type": "stream",
          "name": "stdout",
          "text": [
            "Kullanıcı Adı (e-posta veya telefon numarası): alper67@gmail.com\n",
            "Şifre: 123456\n",
            "Sisteme giriş yaptınız.\n"
          ]
        }
      ]
    },
    {
      "cell_type": "markdown",
      "source": [
        "**Soru 2:** Klavyeden girilen bir insan ismindeki harf sayısına göre ekrana bir cümle yazdırınız. Örneğin 4 harfli bir isim girildiğinde ekrana \"Dört dörtlük bir isim\", 6 harfli bir isim girildiğinde ekrana \"Altıncı hissin kuvvetli\" yazılabilmelidir. Klavyeden üçten az ya da yediden çok harfe sahip bir isim girildiğinde ise ekrana \"isminiz sisteme uygun değildir\" mesajı yazdırılmalıdır."
      ],
      "metadata": {
        "id": "uZDiXJARgK4o"
      }
    },
    {
      "cell_type": "code",
      "source": [
        "#Soru 2 bu bölümde kodlanmalıdır\n",
        "\n",
        "\n",
        "def isim_degerlendirme():\n",
        "    # Kullanıcıdan isim girişi al\n",
        "    isim = input(\"Lütfen bir isim girin: \")\n",
        "\n",
        "    # İsimdeki harf sayısını kontrol et\n",
        "    harf_sayisi = len(isim)\n",
        "\n",
        "    # Harf sayısına göre mesajı yazdır\n",
        "    if harf_sayisi == 3:\n",
        "        print(\"İsminiz sistemde uygun değildir.\")\n",
        "    elif harf_sayisi == 4:\n",
        "        print(\"Dört dörtlük bir isim!\")\n",
        "    elif harf_sayisi == 5:\n",
        "        print(\"Beş kollu bir yıldız gibi!\")\n",
        "    elif harf_sayisi == 6:\n",
        "        print(\"Altıncı hissin kuvvetli!\")\n",
        "    elif harf_sayisi == 7:\n",
        "        print(\"Yedi harikadan biri!\")\n",
        "    else:\n",
        "        print(\"İsminiz sistemde uygun değildir.\")\n",
        "\n",
        "# Fonksiyonu çağırarak oyunu başlat\n",
        "isim_degerlendirme()\n"
      ],
      "metadata": {
        "id": "no7Zd1ZCh5U3",
        "outputId": "24c2c6a5-c178-4c91-b3bd-df64f68e619b",
        "colab": {
          "base_uri": "https://localhost:8080/"
        }
      },
      "execution_count": 15,
      "outputs": [
        {
          "output_type": "stream",
          "name": "stdout",
          "text": [
            "Lütfen bir isim girin: matmazeli\n",
            "İsminiz sistemde uygun değildir.\n"
          ]
        }
      ]
    },
    {
      "cell_type": "markdown",
      "source": [
        "**Soru 3:** 5 öğenin yer aldığı bir kelime tahmin oyunu oluşturun. Kelimeler bir liste içinde yer almalıdır. Klavyeden girilen kelime liste içinde yer alan kelimelerden biri ise ekrana \"bravo oyunu kazandınız\", aksi halde ise ekrana \"üzgünüm oyunu kaybettiniz\" mesajı gelmelidir."
      ],
      "metadata": {
        "id": "HnIqbjcCeNEV"
      }
    },
    {
      "cell_type": "code",
      "source": [
        "#Soru 3 bu bölümde kodlanmalıdır\n",
        "def kelime_tahmin_oyunu():\n",
        "    # Kelime listesi\n",
        "    kelimeler = [\"futbol\", \"basketbol\", \"tenis\", \"yüzme\", \"voleybol\"]\n",
        "\n",
        "    # Kullanıcıdan giriş al\n",
        "    tahmin = input(\"Lütfen bir kelime girin: \")\n",
        "\n",
        "    # Tahminin listede olup olmadığını kontrol et\n",
        "    if tahmin in kelimeler:\n",
        "        print(\"Bravo! Oyunu kazandınız.\")\n",
        "    else:\n",
        "        print(\"Üzgünüm! Oyunu kaybettiniz.\")\n",
        "\n",
        "# Oyunu başlat\n",
        "kelime_tahmin_oyunu()\n",
        "\n",
        "\n"
      ],
      "metadata": {
        "id": "SjzG5g3ffTyv",
        "outputId": "ba89d23e-00d8-4fe5-bd0d-c78a334552c8",
        "colab": {
          "base_uri": "https://localhost:8080/"
        }
      },
      "execution_count": 13,
      "outputs": [
        {
          "output_type": "stream",
          "name": "stdout",
          "text": [
            "Lütfen bir kelime girin: futbol\n",
            "Bravo! Oyunu kazandınız.\n"
          ]
        }
      ]
    },
    {
      "cell_type": "markdown",
      "source": [
        "**Soru 4:** 5 öğenin yer aldığı bir sözlük oluşturun. Bu sözlükte 5 kelime ve bu 5 kelimenin anlamları yer almalıdır. Klavyeden girilen anahtar (key) eğer sözlükte varsa kelimenin anlamı ekrana yazdırılmalıdır. Eğer anahtar sözlükte yoksa sözlükte aranan kelimenin olmadığı bilgisi ekrana yazdırılmalıdır."
      ],
      "metadata": {
        "id": "p49cZFjJcXoS"
      }
    },
    {
      "cell_type": "code",
      "source": [
        "class TiyatroSozlugu:\n",
        "    def __init__(self):\n",
        "        self.sozluk = {\n",
        "            \"Monolog\": \"Bir karakterin tek başına sahnede konuştuğu uzun bir parça.\",\n",
        "            \"Diyalog\": \"İki veya daha fazla karakter arasında geçen konuşmalar.\",\n",
        "            \"Replik\": \"Her karakterin sahnede söylediği bir cümle veya birkaç kelime.\",\n",
        "            \"Perde\": \"Tiyatro oyunlarının bölümlerinden her biri.\",\n",
        "            \"Yonetmen\": \"Tiyatro oyununun yöneticisi.\"\n",
        "        }\n",
        "\n",
        "    def tanim(self, kelime):\n",
        "        if kelime in self.sozluk:\n",
        "            return self.sozluk[kelime]\n",
        "        else:\n",
        "            return \"Bu kelime tiyatro sözlüğünde bulunmamaktadır.\"\n",
        "\n",
        "\n",
        "tiyatro_sozlugu = TiyatroSozlugu()\n",
        "kelime = input(\"Tanımını öğrenmek istediğiniz tiyatro terimini girin: \")\n",
        "print(tiyatro_sozlugu.tanim(kelime))\n"
      ],
      "metadata": {
        "id": "io7w8hfoG-MZ",
        "outputId": "3d07d900-440c-499b-bd84-cac8f4b0112d",
        "colab": {
          "base_uri": "https://localhost:8080/"
        }
      },
      "execution_count": 7,
      "outputs": [
        {
          "output_type": "stream",
          "name": "stdout",
          "text": [
            "Tanımını öğrenmek istediğiniz tiyatro terimini girin: Perde\n",
            "Tiyatro oyunlarının bölümlerinden her biri.\n"
          ]
        }
      ]
    }
  ]
}