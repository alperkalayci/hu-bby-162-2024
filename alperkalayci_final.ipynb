{
  "nbformat": 4,
  "nbformat_minor": 0,
  "metadata": {
    "colab": {
      "provenance": [],
      "include_colab_link": true
    },
    "kernelspec": {
      "name": "python3",
      "display_name": "Python 3"
    },
    "language_info": {
      "name": "python"
    }
  },
  "cells": [
    {
      "cell_type": "markdown",
      "metadata": {
        "id": "view-in-github",
        "colab_type": "text"
      },
      "source": [
        "<a href=\"https://colab.research.google.com/github/alperkalayci/hu-bby-162-2024/blob/main/alperkalayci_final.ipynb\" target=\"_parent\"><img src=\"https://colab.research.google.com/assets/colab-badge.svg\" alt=\"Open In Colab\"/></a>"
      ]
    },
    {
      "cell_type": "markdown",
      "source": [
        "**Final Sınavına hoşgeldiniz!**"
      ],
      "metadata": {
        "id": "ItmuxWgBbkC1"
      }
    },
    {
      "cell_type": "markdown",
      "source": [
        "Canlı final sınavı, bilgisayar laboratuvarında bilgisayar başında yapılan ve teslim edilen sınavı ifade etmektedir. Canlı final sınavında yazmış olduğunuz kodlar sizin sorumluluğunuzdadır ve gerekirse hangi kodu neden yazdığınızı açık bir şekilde anlatabilmeniz gerekmektedir. Canlı final sınavı sırasında İnternet üzerindeki kaynaklar kullanılabilir ancak başka bir kişiden destek alınamaz.\n",
        "\n",
        "Canlı final sınavının teslim şekli önceki sınav ve projelerin teslim şekli ile aynıdır. \"Final Sınavı\" adlı Colab not defterinin bir kopyasını çıkarmalı, size ait olan bu kopya üzerinde soruları cevaplamalı, GitHub'daki ders deponuza size ait kopyayı yüklemeli ve not defterinin adresini metin alanına yazarak göndermelisiniz.\n",
        "\n",
        "Canlı final sınavının doğru şekilde tamamlanması da sınavın önemli bir parçasıdır. Sınav için gönderdiğiniz adresi kontrol ediniz ve doğru dosyayı depoya yerleştirdiği bizden emin olunuz. Teslim sürecinde yapılan hatalar sınavdan 0 puan almanıza yol açabilir!\n",
        "\n",
        "**Sınav süresi 60 dakikadır!**\n",
        "\n",
        "Önemli Not: Soruları cecaplarken sadece şu ana kadar öğrendiğiniz kod yapılarını kullanmanız gerekmektedir!!!"
      ],
      "metadata": {
        "id": "KGjdjR5RbTgH"
      }
    },
    {
      "cell_type": "markdown",
      "source": [
        "**----- Sorular -----**"
      ],
      "metadata": {
        "id": "zBvdh4s8cOqM"
      }
    },
    {
      "cell_type": "markdown",
      "source": [
        "**Soru 1:** Kod bölümünde yer alan listeyi ekrana aşağıda gösterildiği şekilde \"for\" döngüsü kullanarak yazdırın. Her kelimenin başındaki numara otomatik olarak verilmelidir. (5 Puan)\n",
        "\n",
        "1.   Açık Erişim\n",
        "2.   Açık Bilim\n",
        "3.   Açık Veri\n",
        "4.   Açık Eğitim\n",
        "5.   Açık Kültür"
      ],
      "metadata": {
        "id": "ma0FVqgQiLBe"
      }
    },
    {
      "cell_type": "code",
      "source": [
        "#Soru 1 bu bölümde kodlanmalıdır\n",
        "acikListe = [\"Açık Erişim\", \"Açık Bilim\", \"Açık Veri\", \"Açık Eğitim\", \"Açık Kültür\"]\n",
        "\n",
        "\n",
        "liste = [\"Açık Erişim\", \"Açık Bilim\", \"Açık Veri\", \"Açık Eğitim\", \"Açık Kültür\"]\n",
        "\n",
        "for index, kelime in enumerate(liste, start=1):\n",
        "    print(f\"{index}. {kelime}\")\n"
      ],
      "metadata": {
        "id": "Fj7wkLMcjp_7",
        "colab": {
          "base_uri": "https://localhost:8080/"
        },
        "outputId": "22dc8229-48d9-498f-d0c7-eea0770669f2"
      },
      "execution_count": 1,
      "outputs": [
        {
          "output_type": "stream",
          "name": "stdout",
          "text": [
            "1. Açık Erişim\n",
            "2. Açık Bilim\n",
            "3. Açık Veri\n",
            "4. Açık Eğitim\n",
            "5. Açık Kültür\n"
          ]
        }
      ]
    },
    {
      "cell_type": "markdown",
      "source": [
        "**Soru 2:** Kod bölümünde yer alan boş sözlüğe klavyeden yeni veri ekleyecek kodu yazınız. Yeni veri hem anahtarı (key) hem de anahtara karşılık gelecek değerli (value) içermelidir. Veri girişi yapıldıktan sonra sözlüğün güncel hali de ekrana yazıdırılmalıdır. (5 Puan)"
      ],
      "metadata": {
        "id": "uZDiXJARgK4o"
      }
    },
    {
      "cell_type": "code",
      "source": [
        "#Soru 2 bu bölümde kodlanmalıdır\n",
        "sozluk = {}\n",
        "\n",
        "sozluk = {}\n",
        "\n",
        "while True:\n",
        "    anahtar = input(\"Lütfen anahtar girin (çıkmak için 'q' tuşuna basın): \")\n",
        "    if anahtar == 'q':\n",
        "        break\n",
        "    deger = input(\"Lütfen değer girin: \")\n",
        "    if anahtar in sozluk:\n",
        "        print(\"Bu anahtar zaten sözlükte var. Lütfen başka bir anahtar girin.\")\n",
        "        continue\n",
        "    sozluk[anahtar] = deger\n",
        "    print(\"Sözlük güncellendi:\", sozluk)\n",
        "\n"
      ],
      "metadata": {
        "id": "no7Zd1ZCh5U3",
        "colab": {
          "base_uri": "https://localhost:8080/"
        },
        "outputId": "e15fff24-df4d-490c-d332-940cd04a58dc"
      },
      "execution_count": 3,
      "outputs": [
        {
          "name": "stdout",
          "output_type": "stream",
          "text": [
            "Lütfen anahtar girin (çıkmak için 'q' tuşuna basın): break\n",
            "Lütfen değer girin: 20\n",
            "Sözlük güncellendi: {'break': '20'}\n",
            "Lütfen anahtar girin (çıkmak için 'q' tuşuna basın): q\n"
          ]
        }
      ]
    },
    {
      "cell_type": "markdown",
      "source": [
        "**Soru 3:** Herhangi bir metin dosyasında (ör: [veri.txt](https://drive.google.com/file/d/1WVCEET3G3ishvIR-V6lCav7jBgaZLT-o/view?usp=sharing)) satır satır yer alan verileri okuyup ekrana satır satır yazdıracak kodu yazınız. (10 Puan)"
      ],
      "metadata": {
        "id": "HnIqbjcCeNEV"
      }
    },
    {
      "cell_type": "code",
      "source": [
        "#Soru 3 bu bölümde kodlanmalıdır\n",
        "\n",
        "dosya_adi = \"veri.txt\"\n",
        "\n",
        "try:\n",
        "    with open(dosya_adi, \"r\") as dosya:\n",
        "        for satir in dosya:\n",
        "            print(satir.rstrip())  # rstrip() ile satır sonundaki gereksiz boşlukları kaldırıyoruz\n",
        "except FileNotFoundError:\n",
        "    print(f\"{dosya_adi} dosyası bulunamadı.\")\n",
        "except Exception as e:\n",
        "    print(\"Bir hata oluştu:\", e)\n",
        "\n",
        "\n"
      ],
      "metadata": {
        "id": "SjzG5g3ffTyv",
        "colab": {
          "base_uri": "https://localhost:8080/"
        },
        "outputId": "0624b197-ec9e-4684-d8ff-33d93c1d0b9e"
      },
      "execution_count": 6,
      "outputs": [
        {
          "output_type": "stream",
          "name": "stdout",
          "text": [
            "veri.txt dosyası bulunamadı.\n"
          ]
        }
      ]
    },
    {
      "cell_type": "markdown",
      "source": [
        "**Soru 4:** Verilerin bir TXT dosyasında depolanabileceği basit bir adres defteri oluşturunuz. Adres defterindeki öğeler Ad-Soyad ve e-Posta olacaktır. Bu adres desteri uygulamasında bir menü yapısı (uygulama içinde fonksiyolar) olmalıdır. 1. seçenek adres defterindeki girişleri göstermeli, 2. seçenek adres defterine yeni veri eklemeli, 3. seçenek ise uygulamayı sonlandırmalıdır. (20 Puan)"
      ],
      "metadata": {
        "id": "p49cZFjJcXoS"
      }
    },
    {
      "cell_type": "code",
      "execution_count": 11,
      "metadata": {
        "id": "3whYCDz3a8QZ",
        "colab": {
          "base_uri": "https://localhost:8080/"
        },
        "outputId": "18c7bf40-e887-4353-c59f-4dad4e8011b5"
      },
      "outputs": [
        {
          "output_type": "stream",
          "name": "stdout",
          "text": [
            "\n",
            "Adres Defteri Uygulaması\n",
            "1. Adres defterindeki girişleri göster\n",
            "2. Yeni giriş ekle\n",
            "3. Uygulamayı kapat\n",
            "Seçiminizi yapınız: 2\n",
            "Yeni giriş başarıyla eklendi.\n",
            "\n",
            "Adres Defteri Uygulaması\n",
            "1. Adres defterindeki girişleri göster\n",
            "2. Yeni giriş ekle\n",
            "3. Uygulamayı kapat\n",
            "Seçiminizi yapınız: 1\n",
            "Ad-Soyad\t\tE-Posta\n",
            "Alper Kalaycı\t\talperkalayci6767@gmail.com\n",
            "\n",
            "Adres Defteri Uygulaması\n",
            "1. Adres defterindeki girişleri göster\n",
            "2. Yeni giriş ekle\n",
            "3. Uygulamayı kapat\n",
            "Seçiminizi yapınız: 3\n",
            "Uygulama kapatılıyor...\n"
          ]
        }
      ],
      "source": [
        "#Soru 4 bu bölümde kodlanmalıdır\n",
        "\n",
        "def show_entries():\n",
        "    try:\n",
        "        with open(\"adres_defteri.txt\", \"r\") as file:\n",
        "            entries = file.readlines()\n",
        "            if not entries:\n",
        "                print(\"Adres defteri boş.\")\n",
        "            else:\n",
        "                print(\"Ad-Soyad\\t\\tE-Posta\")\n",
        "                for entry in entries:\n",
        "                    print(entry.strip())\n",
        "    except FileNotFoundError:\n",
        "        print(\"Adres defteri bulunamadı. İlk girişinizi ekleyin.\")\n",
        "\n",
        "def add_entry():\n",
        "    ad_soyad = \"Alper Kalaycı\"\n",
        "    email = \"alperkalayci6767@gmail.com\"\n",
        "    with open(\"adres_defteri.txt\", \"a\") as file:\n",
        "        file.write(f\"{ad_soyad}\\t\\t{email}\\n\")\n",
        "    print(\"Yeni giriş başarıyla eklendi.\")\n",
        "\n",
        "while True:\n",
        "    print(\"\\nAdres Defteri Uygulaması\")\n",
        "    print(\"1. Adres defterindeki girişleri göster\")\n",
        "    print(\"2. Yeni giriş ekle\")\n",
        "    print(\"3. Uygulamayı kapat\")\n",
        "\n",
        "    choice = input(\"Seçiminizi yapınız: \")\n",
        "\n",
        "    if choice == \"1\":\n",
        "        show_entries()\n",
        "    elif choice == \"2\"\n",
        "        add_entry()\n",
        "    elif choice == \"3\":\n",
        "        print(\"Uygulama kapatılıyor...\")\n",
        "        break\n",
        "    else:\n",
        "        print(\"Geçersiz seçim. Lütfen tekrar deneyin.\")\n",
        "\n",
        "\n",
        "\n"
      ]
    }
  ]
}